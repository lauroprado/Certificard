{
  "nbformat": 4,
  "nbformat_minor": 0,
  "metadata": {
    "colab": {
      "private_outputs": true,
      "provenance": [],
      "authorship_tag": "ABX9TyNi1auvrEgyaLrLuUEV6eO0",
      "include_colab_link": true
    },
    "kernelspec": {
      "name": "python3",
      "display_name": "Python 3"
    },
    "language_info": {
      "name": "python"
    }
  },
  "cells": [
    {
      "cell_type": "markdown",
      "metadata": {
        "id": "view-in-github",
        "colab_type": "text"
      },
      "source": [
        "<a href=\"https://colab.research.google.com/github/lauroprado/Certificard/blob/main/Imers%C3%A3o_Phyton_Aula_05.ipynb\" target=\"_parent\"><img src=\"https://colab.research.google.com/assets/colab-badge.svg\" alt=\"Open In Colab\"/></a>"
      ]
    },
    {
      "cell_type": "markdown",
      "source": [
        "Imersão Python: Do Excel à Análise de Dados\n",
        "\n",
        "Aula 05: Previsão de Séries Temporais de Ações e Carreiras no Mercado de Dados\n",
        "\n",
        "PREVISÃO DE SÉRIES TEMPORAIS DE AÇÕES E CARREIRAS NO MERCADO DE DADOS\n",
        "\n",
        "*   Ter uma introdução ao Machine Learning;\n",
        "*   Revisar ferramentas aprendidas durante a Imersão;\n",
        "*   Conhecer mais sobre as carreiras no mercado de dados.\n",
        "\n",
        "29/03/2024\n",
        "\n",
        "Lauro Jorge Prado\n"
      ],
      "metadata": {
        "id": "8-cQEWPQmB4l"
      }
    },
    {
      "cell_type": "code",
      "execution_count": null,
      "metadata": {
        "id": "CDN3UlBeehat"
      },
      "outputs": [],
      "source": [
        "import pandas as pd\n",
        "import yfinance as yf\n",
        "import matplotlib.pyplot as plt\n",
        "from prophet import Prophet"
      ]
    },
    {
      "cell_type": "code",
      "source": [
        "dados = yf.download(\"JNJ\", start=\"2020-01-01\", end=\"2023-12-31\", progress=False)\n",
        "dados = dados.reset_index()\n",
        "dados"
      ],
      "metadata": {
        "id": "OOi7_peof6lf"
      },
      "execution_count": null,
      "outputs": []
    },
    {
      "cell_type": "code",
      "source": [
        "dados_treino = dados[dados['Date'] < '2023-07-31']\n",
        "dados_teste = dados[dados['Date'] >= '2023-07-31']"
      ],
      "metadata": {
        "id": "MSnK7yWFgFgR"
      },
      "execution_count": null,
      "outputs": []
    },
    {
      "cell_type": "code",
      "source": [
        "dados_prophet_treino = dados_treino[['Date', 'Close']].rename(columns={'Date': 'ds', 'Close': 'y'})\n",
        "dados_prophet_treino\n"
      ],
      "metadata": {
        "id": "vOdgEpeVgKqo"
      },
      "execution_count": null,
      "outputs": []
    },
    {
      "cell_type": "code",
      "source": [
        "modelo = Prophet(weekly_seasonality=True,\n",
        "        yearly_seasonality=True,\n",
        "        daily_seasonality=False)\n",
        "\n",
        "modelo.add_country_holidays(country_name='US')\n",
        "\n",
        "modelo.fit(dados_prophet_treino)"
      ],
      "metadata": {
        "id": "0xr8i7u6gPYf"
      },
      "execution_count": null,
      "outputs": []
    },
    {
      "cell_type": "code",
      "source": [
        "futuro = modelo.make_future_dataframe(periods=150)\n",
        "previsao = modelo.predict(futuro)\n",
        "previsao"
      ],
      "metadata": {
        "id": "Xcs5Sfq3gU6v"
      },
      "execution_count": null,
      "outputs": []
    },
    {
      "cell_type": "code",
      "source": [
        "#Previsão\n",
        "plt.figure(figsize=(10, 7))\n",
        "plt.plot(dados_treino['Date'], dados_treino['Close'], label='Dados de Treino', color='blue')\n",
        "plt.plot(dados_teste['Date'], dados_teste['Close'], label='Dados Reais (Teste)', color='green')\n",
        "plt.plot(previsao['ds'], previsao['yhat'], label='Previsão', color='orange', linestyle='--')\n",
        "\n",
        "plt.axvline(dados_treino['Date'].max(), color='red', linestyle='--', label='Início da Previsão')\n",
        "plt.xlabel('Data')\n",
        "plt.ylabel('Preço de Fechamento')\n",
        "plt.title('Previsão de Preço de Fechamento vs Dados Reais')\n",
        "plt.legend()\n",
        "plt.show()"
      ],
      "metadata": {
        "id": "jNYHHg3ggW6Q"
      },
      "execution_count": null,
      "outputs": []
    }
  ]
}