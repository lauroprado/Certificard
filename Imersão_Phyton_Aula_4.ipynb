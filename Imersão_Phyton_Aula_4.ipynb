{
  "nbformat": 4,
  "nbformat_minor": 0,
  "metadata": {
    "colab": {
      "private_outputs": true,
      "provenance": [],
      "authorship_tag": "ABX9TyP4qTxx/TI93Vvdw3nk5fr1",
      "include_colab_link": true
    },
    "kernelspec": {
      "name": "python3",
      "display_name": "Python 3"
    },
    "language_info": {
      "name": "python"
    }
  },
  "cells": [
    {
      "cell_type": "markdown",
      "metadata": {
        "id": "view-in-github",
        "colab_type": "text"
      },
      "source": [
        "<a href=\"https://colab.research.google.com/github/lauroprado/Certificard/blob/main/Imers%C3%A3o_Phyton_Aula_4.ipynb\" target=\"_parent\"><img src=\"https://colab.research.google.com/assets/colab-badge.svg\" alt=\"Open In Colab\"/></a>"
      ]
    },
    {
      "cell_type": "code",
      "execution_count": null,
      "metadata": {
        "id": "VrC_plCgNAd7"
      },
      "outputs": [],
      "source": [
        "!pip install mplfinance"
      ]
    },
    {
      "cell_type": "code",
      "source": [
        "import pandas as pd\n",
        "import matplotlib.pyplot as plt\n",
        "import matplotlib.dates as mdates\n",
        "import mplfinance as mpf\n",
        "import yfinance as yf\n",
        "import plotly.graph_objects as go\n",
        "from plotly.subplots import make_subplots"
      ],
      "metadata": {
        "id": "y_5CH8YHZTb4"
      },
      "execution_count": null,
      "outputs": []
    },
    {
      "cell_type": "code",
      "source": [
        "dados = yf.download('PETR4.SA', start='2023-01-01', end='2023-12-31')\n",
        "dados"
      ],
      "metadata": {
        "id": "d8KPYGayc8IW"
      },
      "execution_count": null,
      "outputs": []
    },
    {
      "cell_type": "code",
      "source": [
        "dados.columns =['Abertura', 'Maximo', 'Minimo', 'Fechamento', 'Fech_Ajust', 'Volume']\n",
        "dados = dados.rename_axis('Data')\n",
        "dados"
      ],
      "metadata": {
        "id": "eTFRHT7MeIw5"
      },
      "execution_count": null,
      "outputs": []
    },
    {
      "cell_type": "code",
      "source": [
        "dados['Fechamento'].plot(figsize=(10,7))\n",
        "plt.title('Variação de Preço de Ações da Petrobras por Data', fontsize=16)\n",
        "plt.legend(['Fechamento'])"
      ],
      "metadata": {
        "id": "LrWhCYEjhksK"
      },
      "execution_count": null,
      "outputs": []
    },
    {
      "cell_type": "markdown",
      "source": [],
      "metadata": {
        "id": "I9HzoflbiLDH"
      }
    },
    {
      "cell_type": "code",
      "source": [
        "df = dados.head(60).copy()\n",
        "df['Data'] = df.index\n",
        "df['Data'] = df['Data'].apply(mdates.date2num)\n",
        "df"
      ],
      "metadata": {
        "id": "jTOTd8zJjBr9"
      },
      "execution_count": null,
      "outputs": []
    },
    {
      "cell_type": "code",
      "source": [
        "fig, ax = plt.subplots(figsize=(10, 7))\n",
        "# Vamos definir a largura dos candles no gráfico\n",
        "width = 0.7\n",
        "\n",
        "for i in range(len(df)):\n",
        "    # Determinando a cor do candle\n",
        "    # Se o preço de fechamento for maior que o de abertura, o candle é verde (a ação valorizou nesse dia).\n",
        "    # Se for menor, o candle é vermelho (a ação desvalorizou).\n",
        "    if df['Fechamento'].iloc[i] > df['Abertura'].iloc[i]:\n",
        "        color = 'green'\n",
        "    else:\n",
        "        color = 'red'\n",
        "\n",
        "    # Desenhando a linha vertical do candle (mecha)\n",
        "    # Essa linha mostra os preços máximo (topo da linha) e mínimo (base da linha) do dia.\n",
        "    # Usamos `ax.plot` para desenhar uma linha vertical.\n",
        "    # [df['Data'].iloc[i], df['Data'].iloc[i]] define o ponto x da linha (a data), e [df['Mínimo'].iloc[i], df['Máximo'].iloc[i]] define a altura da linha.\n",
        "    ax.plot([df['Data'].iloc[i], df['Data'].iloc[i]],\n",
        "            [df['Minimo'].iloc[i], df['Maximo'].iloc[i]],\n",
        "            color=color,\n",
        "            linewidth=1)\n",
        "\n",
        "    ax.add_patch(plt.Rectangle((df['Data'].iloc[i] - width/2, min(df['Abertura'].iloc[i], df['Fechamento'].iloc[i])),\n",
        "                               width,\n",
        "                               abs(df['Fechamento'].iloc[i] - df['Abertura'].iloc[i]),\n",
        "                               facecolor=color))\n",
        "\n",
        "df['MA7'] = df['Fechamento'].rolling(window=7).mean()\n",
        "df['MA14'] = df['Fechamento'].rolling(window=14).mean()\n",
        "\n",
        "# Plotando as médias móveis\n",
        "ax.plot(df['Data'], df['MA7'], color='orange', label='Média Móvel 7 Dias')  # Média de 7 dias\n",
        "ax.plot(df['Data'], df['MA14'], color='yellow', label='Média Móvel 14 Dias')  # Média de 14 dias\n",
        "# Adicionando legendas para as médias móveis\n",
        "ax.legend()\n",
        "\n",
        "# Formatando o eixo x para mostrar as datas\n",
        "# Configuramos o formato da data e a rotação para melhor legibilidade\n",
        "ax.xaxis_date() #O método xaxis_date() é usado para dizer ao Matplotlib que as datas estão sendo usadas no eixo x\n",
        "ax.xaxis.set_major_formatter(mdates.DateFormatter('%Y-%m-%d'))\n",
        "plt.xticks(rotation=45)\n",
        "\n",
        "# Adicionando título e rótulos para os eixos x e y\n",
        "plt.title(\"Gráfico de Candlestick - PETROBRAS - PETR4.SA com matplotlib\")\n",
        "plt.xlabel(\"Data\")\n",
        "plt.ylabel(\"Preço\")\n",
        "\n",
        "# Adicionando uma grade para facilitar a visualização dos valores\n",
        "plt.grid(True)\n",
        "\n",
        "# Exibindo o gráfico\n",
        "plt.show()"
      ],
      "metadata": {
        "id": "z9yMxDT1kdmx"
      },
      "execution_count": null,
      "outputs": []
    },
    {
      "cell_type": "code",
      "source": [
        "# Criando subplots\n",
        "'''\n",
        "\"Primeiro, criamos uma figura que conterá nossos gráficos usando make_subplots.\n",
        "Isso nos permite ter múltiplos gráficos em uma única visualização.\n",
        "Aqui, teremos dois subplots: um para o gráfico de candlestick e outro para o volume de transações.\"\n",
        "\n",
        "'''\n",
        "fig = make_subplots(rows=2, cols=1, shared_xaxes=True,\n",
        "                    vertical_spacing=0.1,\n",
        "                    subplot_titles=('Candlesticks', 'Volume Transacionado'),\n",
        "                    row_width=[0.2, 0.7])\n",
        "\n",
        "'''\n",
        "\"No gráfico de candlestick, cada candle representa um dia de negociação,\n",
        "mostrando o preço de abertura, fechamento, máximo e mínimo. Vamos adicionar este gráfico à nossa figura.\"\n",
        "'''\n",
        "# Adicionando o gráfico de candlestick\n",
        "fig.add_trace(go.Candlestick(x=df.index,\n",
        "                             open=df['Abertura'],\n",
        "                             high=df['Maximo'],\n",
        "                             low=df['Minimo'],\n",
        "                             close=df['Fechamento'],\n",
        "                             name='Candlestick'),\n",
        "                             row=1, col=1)\n",
        "\n",
        "# Adicionando as médias móveis\n",
        "# Adicionamos também médias móveis ao mesmo subplot para análise de tendências\n",
        "fig.add_trace(go.Scatter(x=df.index,\n",
        "                         y=df['MA7'],\n",
        "                         mode='lines',\n",
        "                         name='MA7 - Média Móvel 7 Dias'),\n",
        "                         row=1, col=1)\n",
        "\n",
        "fig.add_trace(go.Scatter(x=df.index,\n",
        "                         y=df['MA14'],\n",
        "                         mode='lines',\n",
        "                         name='MA14 - Média Móvel 14 Dias'),\n",
        "                         row=1, col=1)\n",
        "\n",
        "# Adicionando o gráfico de barras para o volume\n",
        "# Em seguida, criamos um gráfico de barras para o volume de transações, que nos dá uma ideia da atividade de negociação naquele dia\n",
        "fig.add_trace(go.Bar(x=df.index,\n",
        "                     y=df['Volume'],\n",
        "                     name='Volume'),\n",
        "                     row=2, col=1)\n",
        "\n",
        "# Atualizando layout\n",
        "#Finalmente, configuramos o layout da figura, ajustando títulos, formatos de eixo e outras configurações para tornar o gráfico claro e legível.\n",
        "fig.update_layout(yaxis_title='Preço',\n",
        "                  xaxis_rangeslider_visible=False,  # Desativa o range slider\n",
        "                  width=880, height=660)\n",
        "\n",
        "# Mostrando o gráfico\n",
        "fig.show()"
      ],
      "metadata": {
        "id": "gFtBZmjyx7Cm"
      },
      "execution_count": null,
      "outputs": []
    },
    {
      "cell_type": "code",
      "source": [
        "dados = yf.download('PETR4.SA', start='2023-01-01', end='2023-12-31')\n",
        "mpf.plot(dados.head(70), type='candle', figsize=(10,5), volume=True, mav=(7,14), style='brasil', title='ANÁLISE AÇÕES PETROBRAS PTR4 PARA O PERIODO 2023-01-01 até 2023-12-31\\nBy Lauro J. Prado')"
      ],
      "metadata": {
        "id": "2hS0iGzLyfj1"
      },
      "execution_count": null,
      "outputs": []
    },
    {
      "cell_type": "code",
      "source": [],
      "metadata": {
        "id": "5emQxurXyzE7"
      },
      "execution_count": null,
      "outputs": []
    },
    {
      "cell_type": "code",
      "source": [
        "dados = yf.download('AAPL', start='2023-01-01', end='2023-12-31')\n",
        "mpf.plot(dados.head(70), type='candle', figsize=(10,5), volume=True, mav=(7,14), title='ANÁLISE AÇÕES DA APPLE PARA O PERIODO 2023-01-01 até 2023-12-31\\nBy Lauro J. Prado')"
      ],
      "metadata": {
        "id": "hsrIW7075f3j"
      },
      "execution_count": null,
      "outputs": []
    }
  ]
}